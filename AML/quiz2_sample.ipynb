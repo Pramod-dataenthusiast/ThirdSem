{
 "cells": [
  {
   "cell_type": "markdown",
   "id": "255dc5f5",
   "metadata": {},
   "source": [
    "Given the dynamic system with recurrence relationship si = s^2\n",
    "i-1 +c, compute the value of s, given that = 0.6471136 and c= - 1- Report the\n",
    "solutions to at least two decimal places."
   ]
  },
  {
   "cell_type": "code",
   "execution_count": 31,
   "id": "5948efcb",
   "metadata": {},
   "outputs": [
    {
     "name": "stdout",
     "output_type": "stream",
     "text": [
      "0\n",
      "0.7391\n",
      "1\n",
      "-0.45373119000000006\n",
      "2\n",
      "-0.7941280072211838\n",
      "3\n",
      "-0.36936070814691147\n",
      "4\n",
      "-0.8635726672772122\n",
      "Value of s_5: -0.2542422483317214\n"
     ]
    }
   ],
   "source": [
    "s = 0.7391\n",
    "c = -1\n",
    "\n",
    "# Compute s_5 using the recurrence relation\n",
    "for i in range(5):\n",
    "    print(i)\n",
    "    print(s)\n",
    "    s = s**2 + c\n",
    "\n",
    "print(\"Value of s_5:\", s)"
   ]
  },
  {
   "cell_type": "markdown",
   "id": "bc2b41ee",
   "metadata": {},
   "source": [
    "Perform max pooling on the matrix A, using a 2x 2 kernel with stride of 2, to obtain a 2x2 matrix. What is the trace of the resulting 2x2 matrix?"
   ]
  },
  {
   "cell_type": "code",
   "execution_count": 14,
   "id": "4c7f4ad2",
   "metadata": {},
   "outputs": [
    {
     "name": "stdout",
     "output_type": "stream",
     "text": [
      "[[-10   9   7   3]\n",
      " [ 10   2  -4   3]\n",
      " [-10  -4   0  10]\n",
      " [ -3   5   4  -2]]\n",
      "Max pooled matrix: [[10  7]\n",
      " [ 5 10]]\n",
      "Trace of the max pooled matrix: 20\n"
     ]
    }
   ],
   "source": [
    "A = np.array([[-10, 9, 7, 3], \n",
    "              [10, 2, -4, 3], \n",
    "              [-10, -4, 0, 10],\n",
    "             [-3, 5, 4, -2]])\n",
    "\n",
    "# Reshape A to make it easier for max pooling in this specific case\n",
    "A_reshaped = A.reshape((2, 2, 2, 2))\n",
    "print(A)\n",
    "# Perform max pooling\n",
    "max_pooled = np.max(A_reshaped, axis=(1, 3))\n",
    "\n",
    "# Trace of the resulting max pooled matrix\n",
    "trace_max_pooled = np.trace(max_pooled)\n",
    "print(\"Max pooled matrix:\", max_pooled)\n",
    "print(\"Trace of the max pooled matrix:\", trace_max_pooled)"
   ]
  },
  {
   "cell_type": "markdown",
   "id": "2c2ffc3e",
   "metadata": {},
   "source": [
    "An LSTM unit (as shown in the Recurrent Networks lecture) contains a set of gates that switch on and off components of the input, hidden state feedback, and output.\n",
    "One of the gates has weight matrices: \n",
    "U = np.array([[1, 0], [0, 1]])\n",
    "V = np.array([[0, 1], [1, 0]])\n",
    "b = np.array([0, 0])\n",
    "Compute the gate output when the two element input is x = [1.6261812 12.9230591) and the previous hidden state is\n",
    "1\"-1)=(-0.4635565 0.3054632). Using the two element output vector, report the first element. Report the solutions to at least two decimal places."
   ]
  },
  {
   "cell_type": "code",
   "execution_count": 27,
   "id": "45f6dd96",
   "metadata": {},
   "outputs": [
    {
     "name": "stdout",
     "output_type": "stream",
     "text": [
      "Ux: [6.8864025 5.5391765]\n",
      "Vh_prev: [-0.3059627 -0.0619117]\n",
      "Output h_t: [0.99999615 0.99996504]\n"
     ]
    }
   ],
   "source": [
    "import numpy as np\n",
    "\n",
    "# Define matrices and vectors\n",
    "U = np.array([[1, 0], [0, 1]])\n",
    "V = np.array([[0, 1], [1, 0]])\n",
    "b = np.array([0, 0])\n",
    "x = np.array([6.8864025, 5.5391765])\n",
    "h_prev = np.array([-0.0619117, -0.3059627])\n",
    "\n",
    "# Compute Ux, Vh_prev, and h_t\n",
    "Ux = np.dot(U, x)\n",
    "Vh_prev = np.dot(V, h_prev)\n",
    "h_t = np.tanh(Ux + Vh_prev + b)\n",
    "\n",
    "print(\"Ux:\", Ux)\n",
    "print(\"Vh_prev:\", Vh_prev)\n",
    "print(\"Output h_t:\", h_t)"
   ]
  },
  {
   "cell_type": "code",
   "execution_count": 25,
   "id": "bbdcb258",
   "metadata": {},
   "outputs": [
    {
     "name": "stdout",
     "output_type": "stream",
     "text": [
      "1.0\n"
     ]
    }
   ],
   "source": [
    "import numpy as np\n",
    "import math\n",
    "\n",
    "# Define the weight matrices, bias vector, input, and previous hidden state\n",
    "U = np.array([[1, 0], [0, 1]])\n",
    "V = np.array([[0, 1], [1, 0]])\n",
    "b = np.array([0, 0])\n",
    "x = np.array([6.8864025, 5.5391765])\n",
    "h_prev = np.array([-0.0619117, -0.3059627])\n",
    "\n",
    "# Sigmoid function\n",
    "def sigmoid(z):\n",
    "    return 1 / (1 + np.exp(-z))\n",
    "\n",
    "# Compute the gate output: g = sigmoid(Ux + Vh_prev + b)\n",
    "gate_output = sigmoid(np.dot(U, x) + np.dot(V, h_prev) + b)\n",
    "\n",
    "# First element of the output\n",
    "first_element = gate_output[0]\n",
    "print(round(first_element,2))"
   ]
  },
  {
   "cell_type": "code",
   "execution_count": 26,
   "id": "7153e06a",
   "metadata": {},
   "outputs": [
    {
     "name": "stdout",
     "output_type": "stream",
     "text": [
      "First element of the output: 0.9986146827133227\n",
      "Full output vector: [0.99861468 0.99583666]\n"
     ]
    }
   ],
   "source": [
    "import numpy as np\n",
    "\n",
    "# Define the matrices and vectors\n",
    "U = np.array([[1, 0], [0, 1]])\n",
    "V = np.array([[0, 1], [1, 0]])\n",
    "b = np.array([0, 0])\n",
    "x = np.array([6.8864025, 5.5391765])\n",
    "h_t_minus_1 = np.array([-0.0619117, -0.3059627])\n",
    "\n",
    "# Sigmoid function\n",
    "def sigmoid(z):\n",
    "    return 1 / (1 + np.exp(-z))\n",
    "\n",
    "# Perform the matrix multiplications\n",
    "Ux = np.dot(U, x)\n",
    "Vh_t_minus_1 = np.dot(V, h_t_minus_1)\n",
    "\n",
    "# Add the components: Ux + Vh + b\n",
    "result = Ux + Vh_t_minus_1 + b\n",
    "\n",
    "# Apply the sigmoid function\n",
    "output = sigmoid(result)\n",
    "\n",
    "# Return the first element of the output\n",
    "print(\"First element of the output:\", output[0])\n",
    "print(\"Full output vector:\", output)"
   ]
  },
  {
   "cell_type": "markdown",
   "id": "814b1cac",
   "metadata": {},
   "source": [
    "Compute the unflipped convolution of A and B. giving a 2x 2 matrix. What is the trace of the resulting 2x 2 matrix?"
   ]
  },
  {
   "cell_type": "code",
   "execution_count": 16,
   "id": "b1e2c3c1",
   "metadata": {},
   "outputs": [
    {
     "name": "stdout",
     "output_type": "stream",
     "text": [
      "[[-1 -7 10]\n",
      " [-2  2  2]\n",
      " [ 3 -5  0]]\n",
      "[[-2 -3]\n",
      " [ 8 -4]]\n",
      "Resulting matrix from convolution: [[ -1.  -8.]\n",
      " [ 42. -50.]]\n",
      "Trace of the resulting matrix: -51.0\n"
     ]
    }
   ],
   "source": [
    "A = np.array([[-1, -7, 10], [-2, 2, 2], [3, -5, 0]])\n",
    "B = np.array([[-2, -3], [8, -4]])\n",
    "\n",
    "# Function to perform convolution\n",
    "def convolution2d(A, B):\n",
    "    # Get the dimensions for the output matrix\n",
    "    output_dim = (A.shape[0] - B.shape[0] + 1, A.shape[1] - B.shape[1] + 1)\n",
    "    # Initialize the output matrix with zeros\n",
    "    output = np.zeros(output_dim)\n",
    "    \n",
    "    # Perform element-wise multiplication and summing\n",
    "    for i in range(output_dim[0]):\n",
    "        for j in range(output_dim[1]):\n",
    "            output[i, j] = np.sum(A[i:i+B.shape[0], j:j+B.shape[1]] * B)\n",
    "    \n",
    "    return output\n",
    "\n",
    "# Perform convolution\n",
    "result_matrix = convolution2d(A, B)\n",
    "print(A)\n",
    "print(B)\n",
    "# Compute trace of the resulting matrix\n",
    "trace_result = np.trace(result_matrix)\n",
    "\n",
    "print(\"Resulting matrix from convolution:\", result_matrix)\n",
    "print(\"Trace of the resulting matrix:\", trace_result)"
   ]
  },
  {
   "cell_type": "code",
   "execution_count": 17,
   "id": "9954b701",
   "metadata": {},
   "outputs": [
    {
     "name": "stdout",
     "output_type": "stream",
     "text": [
      "Convolution Result:\n",
      " [[ -1  -8]\n",
      " [ 42 -50]]\n",
      "Trace of the resulting matrix: -51\n"
     ]
    }
   ],
   "source": [
    "import numpy as np\n",
    "\n",
    "# Define matrices A and B\n",
    "A = np.array([[-1, -7, 10], [-2, 2, 2], [3, -5, 0]])\n",
    "B = np.array([[-2, -3], [8, -4]])\n",
    "\n",
    "# Perform unflipped convolution (without flipping B)\n",
    "# The result will be a 2x2 matrix, applying B on each 2x2 region of A\n",
    "convolution_result = np.array([\n",
    "    [np.sum(A[0:2, 0:2] * B), np.sum(A[0:2, 1:3] * B)],\n",
    "    [np.sum(A[1:3, 0:2] * B), np.sum(A[1:3, 1:3] * B)]\n",
    "])\n",
    "\n",
    "# Compute the trace of the resulting 2x2 matrix\n",
    "trace_convolution = np.trace(convolution_result)\n",
    "\n",
    "# Print the convolution result and the trace\n",
    "print(\"Convolution Result:\\n\", convolution_result)\n",
    "print(\"Trace of the resulting matrix:\", trace_convolution)"
   ]
  },
  {
   "cell_type": "code",
   "execution_count": null,
   "id": "9bc67d35",
   "metadata": {},
   "outputs": [],
   "source": []
  }
 ],
 "metadata": {
  "kernelspec": {
   "display_name": "Python 3 (ipykernel)",
   "language": "python",
   "name": "python3"
  },
  "language_info": {
   "codemirror_mode": {
    "name": "ipython",
    "version": 3
   },
   "file_extension": ".py",
   "mimetype": "text/x-python",
   "name": "python",
   "nbconvert_exporter": "python",
   "pygments_lexer": "ipython3",
   "version": "3.11.4"
  }
 },
 "nbformat": 4,
 "nbformat_minor": 5
}
