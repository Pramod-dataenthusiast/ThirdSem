{
 "cells": [
  {
   "cell_type": "code",
   "execution_count": 1,
   "id": "1f4f4f38-e614-4102-9cf6-b98ab2c377a3",
   "metadata": {
    "tags": []
   },
   "outputs": [],
   "source": [
    "import sklearn\n",
    "import sklearn.datasets\n",
    "import numpy as np\n",
    "import matplotlib.pyplot as plt"
   ]
  },
  {
   "cell_type": "code",
   "execution_count": 21,
   "id": "8fa880df-8262-4e96-9274-3663a2bd515a",
   "metadata": {
    "tags": []
   },
   "outputs": [],
   "source": [
    "#generate training data\n",
    "x1 = np.random.multivariate_normal(mean = [1,1], cov = [[1,0], [0,1]], size = 100)\n",
    "x2 = np.random.multivariate_normal(mean = [3,1], cov = [[1,0], [0,1]], size = 100)\n",
    "x3 = np.random.multivariate_normal(mean = [2,2], cov = [[1,0], [0,1]], size = 100)"
   ]
  },
  {
   "cell_type": "code",
   "execution_count": 23,
   "id": "3af0a408-2fdb-4f25-8a7a-5fab9c6528b2",
   "metadata": {
    "tags": []
   },
   "outputs": [],
   "source": [
    "X = np.vstack([x1, x2, x3])"
   ]
  },
  {
   "cell_type": "code",
   "execution_count": 25,
   "id": "f515be5a-0423-4da8-a012-0db3e6a5a2a7",
   "metadata": {
    "scrolled": true,
    "tags": []
   },
   "outputs": [
    {
     "data": {
      "text/plain": [
       "array([[ 9.34915064e-01, -6.85593539e-01],\n",
       "       [ 3.71034518e-02,  2.27292291e+00],\n",
       "       [ 5.20938477e-03,  1.28785094e-01],\n",
       "       [ 3.02512556e-01,  2.80162641e+00],\n",
       "       [-3.73652897e-02,  1.26559243e+00],\n",
       "       [ 3.07171312e+00,  1.12651910e+00],\n",
       "       [ 8.49558342e-01,  4.26587911e-02],\n",
       "       [-2.42457529e-01,  1.71993907e+00],\n",
       "       [-8.56336447e-02, -2.07807093e-01],\n",
       "       [ 1.42692035e+00,  7.22765812e-01],\n",
       "       [ 2.95769067e+00,  1.29835112e+00],\n",
       "       [ 1.08978251e+00,  1.49713851e-01],\n",
       "       [ 8.57221364e-01, -8.15843032e-01],\n",
       "       [ 1.31145614e+00,  4.46664846e-01],\n",
       "       [ 2.83630871e+00, -9.46145334e-01],\n",
       "       [ 1.97435779e+00,  1.04616580e+00],\n",
       "       [ 7.17480283e-01,  1.37408111e+00],\n",
       "       [ 1.89594211e+00,  5.80832484e-01],\n",
       "       [ 3.40449020e-01,  9.84728747e-01],\n",
       "       [ 2.24201672e-01,  1.24747730e+00],\n",
       "       [ 1.99384607e+00,  5.58970829e-01],\n",
       "       [ 9.37190581e-01,  5.55914990e-01],\n",
       "       [ 1.49144834e-01,  1.60412703e+00],\n",
       "       [ 1.87161659e+00,  7.10947367e-01],\n",
       "       [ 1.51800948e+00,  1.44742931e+00],\n",
       "       [-1.75974710e-01,  5.07908424e-01],\n",
       "       [ 1.66542823e+00,  1.70886009e+00],\n",
       "       [ 2.38355710e+00,  1.01585625e+00],\n",
       "       [-7.61500332e-01,  5.48109774e-01],\n",
       "       [ 2.48746905e+00,  2.82100635e+00],\n",
       "       [ 1.99271667e+00,  1.90671048e+00],\n",
       "       [ 9.12540029e-01,  1.91046205e+00],\n",
       "       [ 1.12989862e+00,  1.97054890e-01],\n",
       "       [ 8.95099486e-01,  8.78805336e-01],\n",
       "       [ 1.18322220e+00,  4.91174515e-01],\n",
       "       [ 1.93861722e+00,  9.41501661e-01],\n",
       "       [ 2.27884819e+00,  8.92211472e-01],\n",
       "       [ 1.96727443e-02,  8.42967461e-01],\n",
       "       [-6.24024460e-01,  7.14333333e-01],\n",
       "       [ 8.97770803e-02,  1.78636397e+00],\n",
       "       [ 1.98354087e+00,  8.29186292e-01],\n",
       "       [ 1.21566612e+00,  4.13753493e+00],\n",
       "       [-2.20313780e-01,  1.06110896e+00],\n",
       "       [ 6.24562738e-01,  8.00903296e-01],\n",
       "       [ 9.83116692e-01,  2.42201272e+00],\n",
       "       [ 1.50906004e+00, -8.68467896e-01],\n",
       "       [ 2.30390189e+00,  4.11063995e-01],\n",
       "       [ 5.09893216e-01, -1.31052417e-01],\n",
       "       [ 5.66039898e-02,  1.60940217e+00],\n",
       "       [-1.16175285e+00, -6.10280248e-01],\n",
       "       [ 2.95231213e-03,  2.14864477e+00],\n",
       "       [ 1.61994603e+00,  2.03670946e+00],\n",
       "       [ 1.09519498e-01,  1.12032012e+00],\n",
       "       [ 1.25512346e+00,  1.47727480e+00],\n",
       "       [ 3.10051405e+00,  1.14728939e+00],\n",
       "       [ 1.31208541e+00,  2.01990733e+00],\n",
       "       [ 2.18051773e-01,  1.65103889e+00],\n",
       "       [ 1.40488109e-01,  3.10596987e-01],\n",
       "       [ 5.79652389e-01,  1.30221759e+00],\n",
       "       [ 8.65828148e-01,  2.52854736e+00],\n",
       "       [ 3.51099190e-03,  5.56796761e-01],\n",
       "       [ 2.47550518e+00,  9.39853343e-01],\n",
       "       [ 1.43784661e+00,  7.78218062e-01],\n",
       "       [-5.11076478e-01,  2.67303782e+00],\n",
       "       [-4.78497807e-01,  1.06264889e-02],\n",
       "       [ 1.77086304e+00,  1.25620232e+00],\n",
       "       [ 4.04345078e-01,  1.72397021e+00],\n",
       "       [ 8.14034616e-01,  9.55555710e-01],\n",
       "       [ 6.45934881e-01,  2.36854265e+00],\n",
       "       [-4.97848814e-01,  2.87502165e-01],\n",
       "       [ 1.18869479e+00,  9.18995650e-01],\n",
       "       [ 1.77448417e+00,  1.89631533e+00],\n",
       "       [ 1.48244035e+00, -1.72437545e-01],\n",
       "       [ 1.79922829e+00,  7.37326750e-01],\n",
       "       [ 2.42895078e-01,  1.73390052e+00],\n",
       "       [ 1.38286691e+00,  2.19718238e+00],\n",
       "       [ 3.23805517e-01,  2.52909807e+00],\n",
       "       [ 2.65161314e+00, -7.52213799e-02],\n",
       "       [ 5.98819305e-01,  1.33621482e-01],\n",
       "       [ 2.23739346e+00, -1.40905522e+00],\n",
       "       [-4.10738007e-01, -3.29543537e-01],\n",
       "       [ 2.94791149e+00,  7.65617026e-01],\n",
       "       [ 4.69383127e-01, -7.22807163e-01],\n",
       "       [-4.44649018e-01,  4.43322941e+00],\n",
       "       [ 9.16559590e-01,  6.16014345e-01],\n",
       "       [-9.81605611e-01, -2.51608629e-01],\n",
       "       [ 1.15437141e+00,  2.03290594e+00],\n",
       "       [-8.99070792e-01,  2.31072214e+00],\n",
       "       [ 2.06655933e+00,  1.04468826e+00],\n",
       "       [-2.30559110e-01,  2.36876163e+00],\n",
       "       [ 2.94027150e-01,  1.36042085e+00],\n",
       "       [-1.79561499e+00,  6.91545930e-01],\n",
       "       [ 2.19981668e+00,  2.58558288e+00],\n",
       "       [ 3.98994512e-01,  1.36122799e+00],\n",
       "       [ 2.91457191e+00,  2.29306521e+00],\n",
       "       [ 2.68363424e+00,  5.65444591e-01],\n",
       "       [ 6.10433012e-01,  1.12844603e+00],\n",
       "       [ 3.24584443e+00,  2.85431574e+00],\n",
       "       [ 3.90103164e-01, -1.20248712e+00],\n",
       "       [ 7.86488375e-01,  3.21801646e+00],\n",
       "       [ 3.57049444e+00,  4.73346296e-01],\n",
       "       [ 2.61728509e+00,  1.42486565e+00],\n",
       "       [ 1.71024951e+00,  2.06156059e+00],\n",
       "       [ 3.22798104e+00,  1.19430968e+00],\n",
       "       [ 4.49631695e+00,  7.23636524e-01],\n",
       "       [ 2.97728466e+00,  2.21015336e-01],\n",
       "       [ 3.33522493e+00,  3.86255103e-01],\n",
       "       [ 3.23909649e+00,  1.94019831e-01],\n",
       "       [ 3.23380700e+00,  1.23295649e+00],\n",
       "       [ 4.21721821e+00,  1.25430411e+00],\n",
       "       [ 2.44409453e+00,  1.25097094e+00],\n",
       "       [ 1.98449317e+00,  2.87071530e+00],\n",
       "       [ 3.09046753e+00,  1.29346790e+00],\n",
       "       [ 2.90804043e+00, -1.50358410e-01],\n",
       "       [ 2.66436233e+00,  3.50451062e-01],\n",
       "       [ 2.26516362e+00,  1.91028077e+00],\n",
       "       [ 3.14331461e+00,  1.47693664e+00],\n",
       "       [ 1.22717959e+00,  5.42261296e-01],\n",
       "       [ 2.59357945e+00,  9.61862497e-01],\n",
       "       [ 2.58658133e+00,  5.14866390e-01],\n",
       "       [ 4.96798528e+00,  1.22837315e+00],\n",
       "       [ 2.74267934e+00,  1.13985629e+00],\n",
       "       [ 2.76963291e+00,  9.82236174e-01],\n",
       "       [ 5.23983106e+00,  5.72036289e-01],\n",
       "       [ 3.31627270e+00,  2.27360078e+00],\n",
       "       [ 2.41481567e+00,  9.23613224e-01],\n",
       "       [ 3.34799830e+00,  1.05057259e+00],\n",
       "       [ 3.92895459e+00, -7.27143804e-01],\n",
       "       [ 3.16201415e+00,  1.10269383e+00],\n",
       "       [ 3.86278930e+00,  2.82649239e+00],\n",
       "       [ 1.61599720e+00,  2.74921857e-01],\n",
       "       [ 3.55663421e+00,  1.02568131e+00],\n",
       "       [ 4.88496828e+00,  8.53801331e-01],\n",
       "       [ 2.28352580e+00,  1.02383971e+00],\n",
       "       [ 1.78390752e+00, -5.76111401e-01],\n",
       "       [ 4.81910693e+00,  1.19476688e+00],\n",
       "       [ 3.07394773e+00,  5.72749113e-01],\n",
       "       [ 2.95803270e+00, -2.01140595e-01],\n",
       "       [ 3.55917693e+00, -2.03036987e-01],\n",
       "       [ 2.41565897e+00,  1.77087693e+00],\n",
       "       [ 4.05254393e+00,  5.00036389e-03],\n",
       "       [ 3.59994057e+00,  2.03009314e+00],\n",
       "       [ 3.67052463e+00,  5.47246885e-01],\n",
       "       [ 2.97877285e+00,  1.28936290e+00],\n",
       "       [ 4.14812202e+00,  1.56153666e+00],\n",
       "       [ 3.34515107e+00,  4.10631591e-01],\n",
       "       [ 3.91444812e+00,  1.79244032e+00],\n",
       "       [ 2.97253074e+00,  1.98270699e-01],\n",
       "       [ 2.43431678e+00,  2.89391490e+00],\n",
       "       [ 3.71826295e+00, -2.37548539e-01],\n",
       "       [ 3.27116390e+00,  1.26005534e+00],\n",
       "       [ 4.10942382e+00,  2.21154074e+00],\n",
       "       [ 4.00247657e+00,  1.24615494e+00],\n",
       "       [ 2.60865216e+00, -2.15267644e-03],\n",
       "       [ 4.27518882e+00,  1.64804429e+00],\n",
       "       [ 2.42574397e+00,  1.03680208e+00],\n",
       "       [ 1.30069272e+00, -1.66236677e+00],\n",
       "       [ 2.99663839e+00,  2.40485919e+00],\n",
       "       [ 1.86346968e+00,  9.08810859e-01],\n",
       "       [ 3.32962340e+00,  2.30659788e+00],\n",
       "       [ 3.05228348e+00,  5.56414490e-01],\n",
       "       [ 4.19287336e+00,  2.03364118e+00],\n",
       "       [ 2.72316642e+00,  1.12641543e+00],\n",
       "       [ 2.86852597e+00, -4.28780663e-01],\n",
       "       [ 4.59941393e+00,  1.62384998e+00],\n",
       "       [ 3.88545899e+00,  6.48240235e-01],\n",
       "       [ 2.03002145e+00,  8.86656298e-02],\n",
       "       [ 4.46774480e+00,  6.98028707e-01],\n",
       "       [ 3.23042842e+00,  2.27298837e+00],\n",
       "       [ 1.91696690e+00,  4.93063541e-01],\n",
       "       [ 2.78284430e+00,  6.81053579e-01],\n",
       "       [ 5.35377442e+00,  1.51132641e+00],\n",
       "       [ 4.39290525e-01,  2.16277818e+00],\n",
       "       [ 2.84361115e+00,  7.33602852e-01],\n",
       "       [ 2.55051113e+00,  1.30001270e+00],\n",
       "       [ 3.22669239e+00,  1.56637711e+00],\n",
       "       [ 2.54247599e+00, -7.65386172e-01],\n",
       "       [ 3.84146052e+00, -3.71719938e-01],\n",
       "       [ 3.27920430e+00,  5.01519055e-01],\n",
       "       [ 4.59244360e+00,  5.16377551e-01],\n",
       "       [ 3.33883498e+00,  2.38355536e+00],\n",
       "       [ 4.17240817e+00,  3.54153125e-01],\n",
       "       [ 2.52065116e+00, -1.46463914e-01],\n",
       "       [ 5.22584211e+00,  1.21767944e+00],\n",
       "       [ 1.20015756e+00,  1.64150190e+00],\n",
       "       [ 2.96842035e+00,  2.36792858e-01],\n",
       "       [ 3.85913085e+00,  2.98411388e-01],\n",
       "       [ 3.80540310e+00,  2.10563468e+00],\n",
       "       [ 2.66798955e+00,  5.43813748e-01],\n",
       "       [ 3.10157292e+00,  3.18214833e-01],\n",
       "       [ 2.52827650e+00,  4.65108475e-01],\n",
       "       [ 2.34447766e+00,  7.61212359e-01],\n",
       "       [ 2.11510975e+00,  1.65004288e+00],\n",
       "       [ 3.52452346e+00,  1.57699528e+00],\n",
       "       [ 1.80169648e+00,  1.42207339e-01],\n",
       "       [ 3.80487634e+00,  8.92279979e-01],\n",
       "       [ 2.83072364e+00, -2.71223196e-02],\n",
       "       [ 3.69398670e+00,  8.68412480e-01],\n",
       "       [ 2.54286362e+00,  3.74689818e-01],\n",
       "       [ 3.38914255e+00,  1.94401950e+00],\n",
       "       [ 1.29437992e+00,  3.22834987e+00],\n",
       "       [ 1.80732036e+00,  9.28629339e-01],\n",
       "       [ 2.65067649e+00,  2.86344718e-01],\n",
       "       [ 2.72115021e+00,  3.47619302e+00],\n",
       "       [ 1.81409848e+00, -2.82451991e-01],\n",
       "       [ 8.98309020e-01,  2.46581653e+00],\n",
       "       [ 1.82170488e+00,  1.00649657e+00],\n",
       "       [ 5.00542077e-01,  2.00204995e+00],\n",
       "       [ 5.08207949e-01,  2.43130946e+00],\n",
       "       [ 2.68797111e+00,  1.71040309e+00],\n",
       "       [ 1.28202542e+00,  2.01882727e+00],\n",
       "       [ 2.77922642e+00,  2.47561437e+00],\n",
       "       [ 2.51088116e+00,  2.19814843e+00],\n",
       "       [ 2.56955464e+00,  2.11651127e+00],\n",
       "       [ 1.65424226e+00,  2.57893856e+00],\n",
       "       [ 1.31789344e+00,  1.89534772e+00],\n",
       "       [ 1.61309288e+00,  3.08843004e+00],\n",
       "       [ 2.46231944e+00,  4.29719945e+00],\n",
       "       [ 8.73330719e-01,  2.84484221e+00],\n",
       "       [ 4.43743527e-01,  1.74099200e+00],\n",
       "       [ 2.10255549e+00,  2.12295449e+00],\n",
       "       [ 1.65474641e+00,  2.12104597e+00],\n",
       "       [ 1.86732694e+00,  2.17698191e+00],\n",
       "       [ 3.90219007e+00,  3.28514716e+00],\n",
       "       [ 2.28459211e+00,  4.52412951e+00],\n",
       "       [ 2.28117756e+00,  3.86932616e-01],\n",
       "       [ 2.62409559e+00,  8.27697149e-01],\n",
       "       [ 1.55589382e+00,  1.61050691e+00],\n",
       "       [ 2.49674170e+00,  1.39956843e+00],\n",
       "       [ 2.55638783e+00,  3.46708882e+00],\n",
       "       [-5.49676544e-01,  2.22067211e+00],\n",
       "       [ 1.97725539e+00,  2.12530679e+00],\n",
       "       [ 2.84557692e+00,  2.20133151e+00],\n",
       "       [ 2.92851817e+00,  2.81997319e+00],\n",
       "       [ 5.97430775e-01,  2.44081074e+00],\n",
       "       [ 1.45793334e+00,  2.37387907e+00],\n",
       "       [ 2.22455252e+00,  1.83981315e+00],\n",
       "       [ 1.49330598e+00,  1.77377673e+00],\n",
       "       [ 1.23367846e+00,  1.59844375e+00],\n",
       "       [ 5.12382098e-01,  1.55050780e+00],\n",
       "       [ 2.59702718e+00,  2.31252879e+00],\n",
       "       [ 1.79648258e+00,  1.36109820e+00],\n",
       "       [ 2.39089487e+00,  1.48447439e+00],\n",
       "       [ 1.22437643e+00,  2.08925484e+00],\n",
       "       [ 2.22689082e+00,  1.69088665e+00],\n",
       "       [ 1.88442050e+00,  2.01720987e+00],\n",
       "       [ 1.50561993e+00,  9.82760349e-02],\n",
       "       [ 1.81634212e+00,  2.08235866e+00],\n",
       "       [ 8.06325146e-01,  2.26702665e+00],\n",
       "       [ 3.60683035e+00,  8.14879417e-01],\n",
       "       [ 1.21237845e+00,  1.94736348e+00],\n",
       "       [ 1.56571561e+00,  2.84938023e+00],\n",
       "       [ 3.48597544e-01,  8.71583461e-01],\n",
       "       [ 2.53582080e+00,  1.85370351e+00],\n",
       "       [ 1.74176900e-01, -7.30850852e-02],\n",
       "       [ 1.28381590e+00,  2.05358884e+00],\n",
       "       [ 2.41803041e+00,  3.25189549e+00],\n",
       "       [ 3.78301984e+00,  2.63882288e+00],\n",
       "       [ 1.96262983e+00,  1.64850858e+00],\n",
       "       [ 1.71594185e+00,  2.84518359e+00],\n",
       "       [ 1.88674529e+00,  2.18061478e+00],\n",
       "       [ 2.51239158e+00,  1.58297126e+00],\n",
       "       [ 2.37445896e+00,  2.79158779e+00],\n",
       "       [ 4.00127124e+00,  2.66752596e+00],\n",
       "       [ 2.64775785e+00,  2.54722448e+00],\n",
       "       [ 8.75688787e-01,  1.00735134e+00],\n",
       "       [ 2.08148778e+00,  1.15471170e+00],\n",
       "       [ 3.39237958e+00,  1.92812126e+00],\n",
       "       [ 1.82422734e+00,  1.24334111e+00],\n",
       "       [ 2.66634206e+00,  1.41448340e+00],\n",
       "       [ 2.78187312e+00,  3.68332308e+00],\n",
       "       [ 1.90378668e+00,  1.09683116e+00],\n",
       "       [ 2.90738130e+00,  4.42147207e+00],\n",
       "       [ 2.85176159e+00,  1.93804557e+00],\n",
       "       [ 4.53903362e+00,  2.90003211e+00],\n",
       "       [ 8.37458088e-01, -1.89143450e-01],\n",
       "       [ 1.70444480e+00,  4.07443652e+00],\n",
       "       [ 1.58993772e+00,  1.69600636e+00],\n",
       "       [ 2.13993011e+00,  4.32281004e+00],\n",
       "       [ 2.30110692e+00,  4.00248824e-01],\n",
       "       [ 2.03575433e+00,  2.82706346e+00],\n",
       "       [ 2.08276862e+00, -8.69690161e-01],\n",
       "       [ 1.70148693e+00,  1.53932294e+00],\n",
       "       [ 1.83780572e+00,  1.54751737e+00],\n",
       "       [ 1.55748348e+00,  2.70045461e+00],\n",
       "       [ 4.30773861e+00,  2.10090513e+00],\n",
       "       [ 9.19063446e-01,  2.50723542e+00],\n",
       "       [ 3.50601623e+00,  1.84933097e+00],\n",
       "       [ 7.96894948e-01,  1.44150919e+00],\n",
       "       [ 3.18317845e+00,  3.32622859e-01],\n",
       "       [ 3.27694812e+00,  3.59304453e-01],\n",
       "       [ 2.39028254e+00,  3.42411360e+00],\n",
       "       [ 1.91125790e+00,  1.60027977e+00],\n",
       "       [ 4.60165333e+00,  3.78288542e+00],\n",
       "       [ 2.82287054e+00,  1.93120680e+00],\n",
       "       [ 3.23960819e+00,  1.95990613e+00],\n",
       "       [ 2.67354882e+00,  3.30136282e+00],\n",
       "       [ 2.40852844e+00,  2.54419679e+00],\n",
       "       [ 2.73798974e+00,  6.77211907e-01],\n",
       "       [ 3.31910951e+00,  3.01299353e+00]])"
      ]
     },
     "execution_count": 25,
     "metadata": {},
     "output_type": "execute_result"
    }
   ],
   "source": [
    "X"
   ]
  },
  {
   "cell_type": "code",
   "execution_count": 27,
   "id": "b2c0a3d6-086e-4896-97f2-36cb96767b2e",
   "metadata": {
    "tags": []
   },
   "outputs": [
    {
     "data": {
      "text/plain": [
       "array([0, 0, 0, 0, 0, 0, 0, 0, 0, 0, 0, 0, 0, 0, 0, 0, 0, 0, 0, 0, 0, 0,\n",
       "       0, 0, 0, 0, 0, 0, 0, 0, 0, 0, 0, 0, 0, 0, 0, 0, 0, 0, 0, 0, 0, 0,\n",
       "       0, 0, 0, 0, 0, 0, 0, 0, 0, 0, 0, 0, 0, 0, 0, 0, 0, 0, 0, 0, 0, 0,\n",
       "       0, 0, 0, 0, 0, 0, 0, 0, 0, 0, 0, 0, 0, 0, 0, 0, 0, 0, 0, 0, 0, 0,\n",
       "       0, 0, 0, 0, 0, 0, 0, 0, 0, 0, 0, 0, 0, 0, 0, 0, 0, 0, 0, 0, 0, 0,\n",
       "       0, 0, 0, 0, 0, 0, 0, 0, 0, 0, 0, 0, 0, 0, 0, 0, 0, 0, 0, 0, 0, 0,\n",
       "       0, 0, 0, 0, 0, 0, 0, 0, 0, 0, 0, 0, 0, 0, 0, 0, 0, 0, 0, 0, 0, 0,\n",
       "       0, 0, 0, 0, 0, 0, 0, 0, 0, 0, 0, 0, 0, 0, 0, 0, 0, 0, 0, 0, 0, 0,\n",
       "       0, 0, 0, 0, 0, 0, 0, 0, 0, 0, 0, 0, 0, 0, 0, 0, 0, 0, 0, 0, 0, 0,\n",
       "       0, 0])"
      ]
     },
     "execution_count": 27,
     "metadata": {},
     "output_type": "execute_result"
    }
   ],
   "source": [
    "np.repeat(0,200) # repeat 0 200 times"
   ]
  },
  {
   "cell_type": "code",
   "execution_count": 29,
   "id": "88c89e7a-f0cd-4d9b-9a43-18c7dd7e14d0",
   "metadata": {
    "tags": []
   },
   "outputs": [
    {
     "data": {
      "text/plain": [
       "array([0, 0, 0, 0, 0, 0, 0, 0, 0, 0, 0, 0, 0, 0, 0, 0, 0, 0, 0, 0, 0, 0,\n",
       "       0, 0, 0, 0, 0, 0, 0, 0, 0, 0, 0, 0, 0, 0, 0, 0, 0, 0, 0, 0, 0, 0,\n",
       "       0, 0, 0, 0, 0, 0, 0, 0, 0, 0, 0, 0, 0, 0, 0, 0, 0, 0, 0, 0, 0, 0,\n",
       "       0, 0, 0, 0, 0, 0, 0, 0, 0, 0, 0, 0, 0, 0, 0, 0, 0, 0, 0, 0, 0, 0,\n",
       "       0, 0, 0, 0, 0, 0, 0, 0, 0, 0, 0, 0, 0, 0, 0, 0, 0, 0, 0, 0, 0, 0,\n",
       "       0, 0, 0, 0, 0, 0, 0, 0, 0, 0, 0, 0, 0, 0, 0, 0, 0, 0, 0, 0, 0, 0,\n",
       "       0, 0, 0, 0, 0, 0, 0, 0, 0, 0, 0, 0, 0, 0, 0, 0, 0, 0, 0, 0, 0, 0,\n",
       "       0, 0, 0, 0, 0, 0, 0, 0, 0, 0, 0, 0, 0, 0, 0, 0, 0, 0, 0, 0, 0, 0,\n",
       "       0, 0, 0, 0, 0, 0, 0, 0, 0, 0, 0, 0, 0, 0, 0, 0, 0, 0, 0, 0, 0, 0,\n",
       "       0, 0, 1, 1, 1, 1, 1, 1, 1, 1, 1, 1, 1, 1, 1, 1, 1, 1, 1, 1, 1, 1,\n",
       "       1, 1, 1, 1, 1, 1, 1, 1, 1, 1, 1, 1, 1, 1, 1, 1, 1, 1, 1, 1, 1, 1,\n",
       "       1, 1, 1, 1, 1, 1, 1, 1, 1, 1, 1, 1, 1, 1, 1, 1, 1, 1, 1, 1, 1, 1,\n",
       "       1, 1, 1, 1, 1, 1, 1, 1, 1, 1, 1, 1, 1, 1, 1, 1, 1, 1, 1, 1, 1, 1,\n",
       "       1, 1, 1, 1, 1, 1, 1, 1, 1, 1, 1, 1, 1, 1])"
      ]
     },
     "execution_count": 29,
     "metadata": {},
     "output_type": "execute_result"
    }
   ],
   "source": [
    "y = np.concatenate([np.repeat(0, 200), np.repeat(1, 100)])\n",
    "y"
   ]
  },
  {
   "cell_type": "code",
   "execution_count": 35,
   "id": "9a8e9b9e-2280-4a9b-ba3e-b4ed0320d351",
   "metadata": {
    "tags": []
   },
   "outputs": [
    {
     "data": {
      "image/png": "[encoded data removed]",
      "text/plain": [
       "<Figure size 640x480 with 1 Axes>"
      ]
     },
     "metadata": {},
     "output_type": "display_data"
    }
   ],
   "source": [
    "plt.scatter(X[:, 0], X[:, 1], marker='o', c=y, s=25, edgecolor='k')\n",
    "plt.show()"
   ]
  },
  {
   "cell_type": "code",
   "execution_count": 37,
   "id": "8f05b22f-223f-4363-8cc3-bb078e3ca876",
   "metadata": {
    "tags": []
   },
   "outputs": [],
   "source": [
    "## generate testing data, using the same distribution as the training data\n",
    "x1 = np.random.multivariate_normal(mean = [1,1], cov = [[1,0], [0,1]], size = 100)\n",
    "x2 = np.random.multivariate_normal(mean = [3,1], cov = [[1,0], [0,1]], size = 100)\n",
    "x3 = np.random.multivariate_normal(mean = [2,2], cov = [[1,0], [0,1]], size = 100)"
   ]
  },
  {
   "cell_type": "code",
   "execution_count": 43,
   "id": "5ff231fd-24ec-4030-bf68-0b87d1cbd30d",
   "metadata": {
    "tags": []
   },
   "outputs": [],
   "source": [
    "Xtest = np.vstack([x1, x2, x3])\n",
    "ytest = np.concatenate([np.repeat(0,200), np.repeat(1,100)])"
   ]
  },
  {
   "cell_type": "markdown",
   "id": "77996e3e-9c94-4378-b85b-3eeb5473f0a8",
   "metadata": {},
   "source": [
    "##polynomial kernel\n",
    "\n",
    "k(x i,x j)=(x i^⊤,x j+o)^d"
   ]
  },
  {
   "cell_type": "markdown",
   "id": "7f96482e-6066-4328-8f46-423a0ea5f191",
   "metadata": {},
   "source": [
    "## Regularization involves controlling model complexity to prevent overfitting.\n",
    "## C regulates the balance between margin size and classification error.\n",
    "## degree specifies the polynomial degree in the kernel function, affecting model complexity.\n",
    "## coef0 adjusts the influence of the constant term in polynomial and sigmoid kernels."
   ]
  },
  {
   "cell_type": "code",
   "execution_count": 48,
   "id": "170904a2-8f79-44df-8d41-7d1e436a9f3c",
   "metadata": {
    "tags": []
   },
   "outputs": [
    {
     "data": {
      "text/html": [
       "<style>#sk-container-id-1 {color: black;}#sk-container-id-1 pre{padding: 0;}#sk-container-id-1 div.sk-toggleable {background-color: white;}#sk-container-id-1 label.sk-toggleable__label {cursor: pointer;display: block;width: 100%;margin-bottom: 0;padding: 0.3em;box-sizing: border-box;text-align: center;}#sk-container-id-1 label.sk-toggleable__label-arrow:before {content: \"▸\";float: left;margin-right: 0.25em;color: #696969;}#sk-container-id-1 label.sk-toggleable__label-arrow:hover:before {color: black;}#sk-container-id-1 div.sk-estimator:hover label.sk-toggleable__label-arrow:before {color: black;}#sk-container-id-1 div.sk-toggleable__content {max-height: 0;max-width: 0;overflow: hidden;text-align: left;background-color: #f0f8ff;}#sk-container-id-1 div.sk-toggleable__content pre {margin: 0.2em;color: black;border-radius: 0.25em;background-color: #f0f8ff;}#sk-container-id-1 input.sk-toggleable__control:checked~div.sk-toggleable__content {max-height: 200px;max-width: 100%;overflow: auto;}#sk-container-id-1 input.sk-toggleable__control:checked~label.sk-toggleable__label-arrow:before {content: \"▾\";}#sk-container-id-1 div.sk-estimator input.sk-toggleable__control:checked~label.sk-toggleable__label {background-color: #d4ebff;}#sk-container-id-1 div.sk-label input.sk-toggleable__control:checked~label.sk-toggleable__label {background-color: #d4ebff;}#sk-container-id-1 input.sk-hidden--visually {border: 0;clip: rect(1px 1px 1px 1px);clip: rect(1px, 1px, 1px, 1px);height: 1px;margin: -1px;overflow: hidden;padding: 0;position: absolute;width: 1px;}#sk-container-id-1 div.sk-estimator {font-family: monospace;background-color: #f0f8ff;border: 1px dotted black;border-radius: 0.25em;box-sizing: border-box;margin-bottom: 0.5em;}#sk-container-id-1 div.sk-estimator:hover {background-color: #d4ebff;}#sk-container-id-1 div.sk-parallel-item::after {content: \"\";width: 100%;border-bottom: 1px solid gray;flex-grow: 1;}#sk-container-id-1 div.sk-label:hover label.sk-toggleable__label {background-color: #d4ebff;}#sk-container-id-1 div.sk-serial::before {content: \"\";position: absolute;border-left: 1px solid gray;box-sizing: border-box;top: 0;bottom: 0;left: 50%;z-index: 0;}#sk-container-id-1 div.sk-serial {display: flex;flex-direction: column;align-items: center;background-color: white;padding-right: 0.2em;padding-left: 0.2em;position: relative;}#sk-container-id-1 div.sk-item {position: relative;z-index: 1;}#sk-container-id-1 div.sk-parallel {display: flex;align-items: stretch;justify-content: center;background-color: white;position: relative;}#sk-container-id-1 div.sk-item::before, #sk-container-id-1 div.sk-parallel-item::before {content: \"\";position: absolute;border-left: 1px solid gray;box-sizing: border-box;top: 0;bottom: 0;left: 50%;z-index: -1;}#sk-container-id-1 div.sk-parallel-item {display: flex;flex-direction: column;z-index: 1;position: relative;background-color: white;}#sk-container-id-1 div.sk-parallel-item:first-child::after {align-self: flex-end;width: 50%;}#sk-container-id-1 div.sk-parallel-item:last-child::after {align-self: flex-start;width: 50%;}#sk-container-id-1 div.sk-parallel-item:only-child::after {width: 0;}#sk-container-id-1 div.sk-dashed-wrapped {border: 1px dashed gray;margin: 0 0.4em 0.5em 0.4em;box-sizing: border-box;padding-bottom: 0.4em;background-color: white;}#sk-container-id-1 div.sk-label label {font-family: monospace;font-weight: bold;display: inline-block;line-height: 1.2em;}#sk-container-id-1 div.sk-label-container {text-align: center;}#sk-container-id-1 div.sk-container {/* jupyter's `normalize.less` sets `[hidden] { display: none; }` but bootstrap.min.css set `[hidden] { display: none !important; }` so we also need the `!important` here to be able to override the default hidden behavior on the sphinx rendered scikit-learn.org. See: https://github.com/scikit-learn/scikit-learn/issues/21755 */display: inline-block !important;position: relative;}#sk-container-id-1 div.sk-text-repr-fallback {display: none;}</style><div id=\"sk-container-id-1\" class=\"sk-top-container\"><div class=\"sk-text-repr-fallback\"><pre>SVC(C=1, coef0=1, degree=1, kernel=&#x27;poly&#x27;)</pre><b>In a Jupyter environment, please rerun this cell to show the HTML representation or trust the notebook. <br />On GitHub, the HTML representation is unable to render, please try loading this page with nbviewer.org.</b></div><div class=\"sk-container\" hidden><div class=\"sk-item\"><div class=\"sk-estimator sk-toggleable\"><input class=\"sk-toggleable__control sk-hidden--visually\" id=\"sk-estimator-id-1\" type=\"checkbox\" checked><label for=\"sk-estimator-id-1\" class=\"sk-toggleable__label sk-toggleable__label-arrow\">SVC</label><div class=\"sk-toggleable__content\"><pre>SVC(C=1, coef0=1, degree=1, kernel=&#x27;poly&#x27;)</pre></div></div></div></div></div>"
      ],
      "text/plain": [
       "SVC(C=1, coef0=1, degree=1, kernel='poly')"
      ]
     },
     "execution_count": 48,
     "metadata": {},
     "output_type": "execute_result"
    }
   ],
   "source": [
    "# We set the hyper-parameters C to 1, coef0 to 1, and degree to 1.\n",
    "from sklearn import svm\n",
    "m = svm.SVC(kernel='poly', C=1, degree=1, coef0 = 1)\n",
    "m.fit(X, y)"
   ]
  },
  {
   "cell_type": "code",
   "execution_count": 50,
   "id": "8577ab38-cd60-41a1-9e1d-144f5a6bd472",
   "metadata": {
    "tags": []
   },
   "outputs": [
    {
     "data": {
      "text/plain": [
       "0.7166666666666667"
      ]
     },
     "execution_count": 50,
     "metadata": {},
     "output_type": "execute_result"
    }
   ],
   "source": [
    "#training accuracy\n",
    "m.score(X, y)"
   ]
  },
  {
   "cell_type": "code",
   "execution_count": 52,
   "id": "8afbac66-bd0b-45b6-a51f-e3af7cd98bcc",
   "metadata": {
    "tags": []
   },
   "outputs": [
    {
     "data": {
      "text/plain": [
       "0.6933333333333334"
      ]
     },
     "execution_count": 52,
     "metadata": {},
     "output_type": "execute_result"
    }
   ],
   "source": [
    "#test accuracy\n",
    "m.score(Xtest, ytest)"
   ]
  },
  {
   "cell_type": "code",
   "execution_count": 56,
   "id": "5b680be7-9036-47bd-883f-6b4443cf7405",
   "metadata": {
    "tags": []
   },
   "outputs": [
    {
     "name": "stdout",
     "output_type": "stream",
     "text": [
      "C= 2 , degree= 3 , Training: 0.7733333333333333 , Testing: 0.7433333333333333\n"
     ]
    }
   ],
   "source": [
    "# adjust c and d to examine the effect on training and testing accuracy\n",
    "c = 2\n",
    "d = 3\n",
    "m = svm.SVC(kernel='poly', C=c, degree=d, coef0=1)\n",
    "m.fit(X,y)\n",
    "print(\"C=\", c, \", degree=\", d, \", Training:\", m.score(X,y), \", Testing:\", m.score(Xtest, ytest))"
   ]
  },
  {
   "cell_type": "code",
   "execution_count": null,
   "id": "970d8444-dd80-409a-b5d3-1faf14fa5c63",
   "metadata": {},
   "outputs": [],
   "source": []
  }
 ],
 "metadata": {
  "kernelspec": {
   "display_name": "Python 3 (ipykernel)",
   "language": "python",
   "name": "python3"
  },
  "language_info": {
   "codemirror_mode": {
    "name": "ipython",
    "version": 3
   },
   "file_extension": ".py",
   "mimetype": "text/x-python",
   "name": "python",
   "nbconvert_exporter": "python",
   "pygments_lexer": "ipython3",
   "version": "3.11.4"
  }
 },
 "nbformat": 4,
 "nbformat_minor": 5
}
