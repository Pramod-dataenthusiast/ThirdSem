{
 "cells": [
  {
   "cell_type": "code",
   "execution_count": 1,
   "id": "3ba54ac0",
   "metadata": {},
   "outputs": [],
   "source": [
    "import numpy as np"
   ]
  },
  {
   "cell_type": "code",
   "execution_count": 4,
   "id": "9192b07c",
   "metadata": {},
   "outputs": [
    {
     "name": "stdout",
     "output_type": "stream",
     "text": [
      "[[31 75 29]\n",
      " [ 3  4 21]\n",
      " [31 57 14]]\n",
      "[[33 44 11]\n",
      " [16  4 96]\n",
      " [13 72 13]]\n"
     ]
    },
    {
     "data": {
      "text/plain": [
       "array([[2600, 3752, 7918],\n",
       "       [ 436, 1660,  690],\n",
       "       [2117, 2600, 5995]])"
      ]
     },
     "execution_count": 4,
     "metadata": {},
     "output_type": "execute_result"
    }
   ],
   "source": [
    "a = np.array([[31, 75, 29], [3, 4, 21], [31, 57, 14]])\n",
    "b = np.array([[33, 44, 11], [16, 4, 96], [13, 72, 13]])\n",
    "print(a)\n",
    "print(b)\n",
    "a.dot(b)"
   ]
  },
  {
   "cell_type": "code",
   "execution_count": 6,
   "id": "702fd4f2",
   "metadata": {},
   "outputs": [
    {
     "data": {
      "text/plain": [
       "array([[ 1.00000000e+00,  5.06539255e-16,  4.99600361e-16],\n",
       "       [-6.24500451e-17,  1.00000000e+00,  0.00000000e+00],\n",
       "       [ 2.77555756e-17, -6.10622664e-16,  1.00000000e+00]])"
      ]
     },
     "execution_count": 6,
     "metadata": {},
     "output_type": "execute_result"
    }
   ],
   "source": [
    "aa = np.array([[95,26,32],[49,51,97],[29,50,64]])\n",
    "a_inv = np.linalg.pinv(aa)\n",
    "a_inv.dot(aa)"
   ]
  },
  {
   "cell_type": "code",
   "execution_count": 7,
   "id": "1fe9f1e0",
   "metadata": {},
   "outputs": [
    {
     "data": {
      "text/plain": [
       "21941.99999999999"
      ]
     },
     "execution_count": 7,
     "metadata": {},
     "output_type": "execute_result"
    }
   ],
   "source": [
    "aaa = np.array([[32,74,21],[77,31,99],[53,41,57]])\n",
    "np.linalg.det(aaa)"
   ]
  },
  {
   "cell_type": "code",
   "execution_count": null,
   "id": "20dc3838",
   "metadata": {},
   "outputs": [],
   "source": []
  }
 ],
 "metadata": {
  "kernelspec": {
   "display_name": "Python 3 (ipykernel)",
   "language": "python",
   "name": "python3"
  },
  "language_info": {
   "codemirror_mode": {
    "name": "ipython",
    "version": 3
   },
   "file_extension": ".py",
   "mimetype": "text/x-python",
   "name": "python",
   "nbconvert_exporter": "python",
   "pygments_lexer": "ipython3",
   "version": "3.11.4"
  }
 },
 "nbformat": 4,
 "nbformat_minor": 5
}
